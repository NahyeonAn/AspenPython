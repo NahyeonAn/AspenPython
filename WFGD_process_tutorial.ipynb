{
 "cells": [
  {
   "cell_type": "markdown",
   "metadata": {},
   "source": [
    "# Library import"
   ]
  },
  {
   "cell_type": "code",
   "execution_count": null,
   "metadata": {},
   "outputs": [],
   "source": [
    "import win32com.client as win32\n",
    "import os\n",
    "import numpy as np\n",
    "import pandas as pd"
   ]
  },
  {
   "cell_type": "markdown",
   "metadata": {},
   "source": [
    "# Open Aspen file"
   ]
  },
  {
   "cell_type": "code",
   "execution_count": null,
   "metadata": {},
   "outputs": [],
   "source": [
    "filename = '../aspen/Wet_flue_gas_desulfurization(WOS).apw'\n",
    "sim = win32.Dispatch(\"Apwn.Document\")\n",
    "sim.InitFromArchive2(os.path.abspath(filename))\n",
    "sim.Visible = True\n",
    "# sim.Visible = False"
   ]
  },
  {
   "cell_type": "markdown",
   "metadata": {},
   "source": [
    "# Define Material stream & Operation block"
   ]
  },
  {
   "cell_type": "code",
   "execution_count": null,
   "metadata": {},
   "outputs": [],
   "source": [
    "MyBlocks = sim.Tree.Elements(\"Data\").Elements(\"Blocks\")\n",
    "MyStreams = sim.Tree.Elements(\"Data\").Elements(\"Streams\")"
   ]
  },
  {
   "cell_type": "markdown",
   "metadata": {},
   "source": [
    "# Material streams"
   ]
  },
  {
   "cell_type": "code",
   "execution_count": null,
   "metadata": {},
   "outputs": [],
   "source": [
    "wos = MyStreams.Elements(\"WOS\")\n",
    "\n",
    "temp = wos.Elements(\"Output\").Elements(\"RES_TEMP\").Value\n",
    "pres = wos.Elements(\"Output\").Elements(\"RES_PRES\").Value\n",
    "\n",
    "molar_flow = wos.Elements(\"Output\").Elements(\"RES_MOLEFLOW\").Value\n",
    "mass_flow = wos.Elements(\"Output\").Elements(\"RES_MASSFLOW\").Value\n",
    "\n",
    "print(\"WOS temperature (C): \", temp)\n",
    "print(\"WOS pressure (bar): \", pres)\n",
    "\n",
    "print(\"WOS mole flows (kmol/hr): \", molar_flow)\n",
    "print(\"WOS mass flows (kg/hr): \", mass_flow)"
   ]
  },
  {
   "cell_type": "code",
   "execution_count": null,
   "metadata": {},
   "outputs": [],
   "source": [
    "# Components\n",
    "wos_massflow = wos.Elements(\"Output\").Elements(\"MASSFLOW\").Elements(\"MIXED\")    \n",
    "\n",
    "components_list = []\n",
    "components_flow_list = []\n",
    "\n",
    "for comp in wos_massflow.Elements:\n",
    "    Compoundname = comp.Name\n",
    "    components_list.append(Compoundname)\n",
    "    _massflow = wos_massflow.Elements(Compoundname).Value\n",
    "    components_flow_list.append(_massflow)\n",
    "    \n",
    "comp_output = {comp : value for comp,value in zip(components_list, components_flow_list)}\n",
    "print(comp_output)"
   ]
  },
  {
   "cell_type": "markdown",
   "metadata": {},
   "source": [
    "# Blocks"
   ]
  },
  {
   "cell_type": "code",
   "execution_count": null,
   "metadata": {},
   "outputs": [],
   "source": [
    "scrubber = MyBlocks.Elements('SCRUBBER')\n",
    "\n",
    "heat_duty = scrubber.Elements(\"Output\").Elements(\"QCALC\").Value\n",
    "total_vol = scrubber.Elements(\"Output\").Elements(\"TOT_VOL\").Value\n",
    "\n",
    "print(\"Scrubber heat duty (cal/sec): \", heat_duty)\n",
    "print(\"Scrubber reactor volume (L): \", total_vol)"
   ]
  },
  {
   "cell_type": "markdown",
   "metadata": {},
   "source": [
    "# Change input value and Run simulation"
   ]
  },
  {
   "cell_type": "code",
   "execution_count": null,
   "metadata": {},
   "outputs": [],
   "source": [
    "### Input value ###\n",
    "# Material stream\n",
    "wos_total_flow = wos.Elements(\"Input\").Elements(\"TOTFLOW\").Elements(\"MIXED\")\n",
    "wos_total_flow.Value = 375\n",
    "\n",
    "# Blocks setting\n",
    "gas_sp_temp = MyBlocks.Elements(\"GAS-SP\").Elements(\"Input\").Elements(\"TEMP\")\n",
    "gas_sp_temp.Value = 50"
   ]
  },
  {
   "cell_type": "code",
   "execution_count": null,
   "metadata": {},
   "outputs": [],
   "source": [
    "### Simulation run ###\n",
    "sim.Reinit()\n",
    "sim.Run2()"
   ]
  },
  {
   "cell_type": "code",
   "execution_count": 1,
   "metadata": {},
   "outputs": [],
   "source": []
  },
  {
   "cell_type": "markdown",
   "metadata": {},
   "source": [
    "# Save and close Aspen file"
   ]
  },
  {
   "cell_type": "code",
   "execution_count": null,
   "metadata": {},
   "outputs": [],
   "source": [
    "sim.Save()\n",
    "AspenFileName = sim.FullName\n",
    "sim.Close(AspenFileName)"
   ]
  }
 ],
 "metadata": {
  "kernelspec": {
   "display_name": "Python 3",
   "language": "python",
   "name": "python3"
  },
  "language_info": {
   "codemirror_mode": {
    "name": "ipython",
    "version": 3
   },
   "file_extension": ".py",
   "mimetype": "text/x-python",
   "name": "python",
   "nbconvert_exporter": "python",
   "pygments_lexer": "ipython3",
   "version": "3.8.10"
  },
  "orig_nbformat": 4
 },
 "nbformat": 4,
 "nbformat_minor": 2
}
